{
 "cells": [
  {
   "cell_type": "code",
   "execution_count": null,
   "metadata": {},
   "outputs": [],
   "source": [
    "import os\n",
    "import cv2 \n",
    "import numpy as np\n",
    "import mtcnn\n",
    "from model import InceptionResNetV2\n",
    "from training import normalize,l2_normalizer\n",
    "from sklearn.preprocessing import Normalizer\n",
    "from scipy.spatial.distance import cosine\n",
    "import pickle"
   ]
  },
  {
   "cell_type": "code",
   "execution_count": null,
   "metadata": {},
   "outputs": [],
   "source": [
    "confidence_t=0.99\n",
    "recognition_t=0.5\n",
    "required_size = (160,160)"
   ]
  },
  {
   "cell_type": "code",
   "execution_count": null,
   "metadata": {},
   "outputs": [],
   "source": [
    "face_data = '../data/lfw/'\n",
    "required_shape = (160,160)\n",
    "face_encoder = InceptionResNetV2()\n",
    "path = '../model/keras-facenet/weights/facenet_keras_weights.h5'\n",
    "face_encoder.load_weights(path)\n",
    "face_detector = mtcnn.MTCNN()\n",
    "lfw_dict = dict()\n",
    "l2_normalizer = Normalizer('l2')"
   ]
  },
  {
   "cell_type": "code",
   "execution_count": null,
   "metadata": {},
   "outputs": [],
   "source": [
    "all_persons = os.listdir(face_data)\n",
    "p=1\n",
    "for person in all_persons:\n",
    "    print(person)\n",
    "    print(f'Completed {p}/{len(all_persons)}')\n",
    "    p+=1\n",
    "    IMG_PATHS = os.listdir(os.path.join(face_data,person))\n",
    "    if(len(IMG_PATHS) < 2):\n",
    "        continue\n",
    "    encodes = []\n",
    "    for i,img_path in enumerate(IMG_PATHS):\n",
    "        if(i<10):\n",
    "            img = cv2.imread(os.path.join(face_data,person,img_path))\n",
    "            img_rgb = cv2.cvtColor(img, cv2.COLOR_BGR2RGB)\n",
    "            x = face_detector.detect_faces(img_rgb)\n",
    "            if len(x) > 0:\n",
    "                x1, y1, width, height = x[0]['box']\n",
    "                x1, y1 = abs(x1) , abs(y1)\n",
    "                x2, y2 = x1+width , y1+height\n",
    "                face = img_rgb[y1:y2 , x1:x2]\n",
    "            else:\n",
    "                face = img_rgb\n",
    "            \n",
    "            face = normalize(face)\n",
    "            face = cv2.resize(face, required_shape)\n",
    "            face_d = np.expand_dims(face, axis=0)\n",
    "            encode = face_encoder.predict(face_d)[0]\n",
    "            encodes.append(encode)\n",
    "    \n",
    "    if encodes:\n",
    "        encode = np.sum(encodes, axis=0 )\n",
    "        encode = l2_normalizer.transform(np.expand_dims(encode, axis=0))[0]\n",
    "        lfw_dict[person] = encode\n",
    "\n",
    "    "
   ]
  },
  {
   "cell_type": "code",
   "execution_count": null,
   "metadata": {},
   "outputs": [],
   "source": [
    "len(lfw_dict)"
   ]
  },
  {
   "cell_type": "code",
   "execution_count": null,
   "metadata": {},
   "outputs": [],
   "source": [
    "correct = 0\n",
    "total=0\n",
    "\n",
    "for person in lfw_dict.keys():\n",
    "    IMG_PATHS = os.listdir(os.path.join(face_data,person))\n",
    "    img_path = os.path.join(face_data,person,IMG_PATHS[-1])\n",
    "    img = cv2.imread(img_path)\n",
    "    img_rgb = cv2.cvtColor(img, cv2.COLOR_BGR2RGB)\n",
    "    results = face_detector.detect_faces(img_rgb)\n",
    "    names =[]\n",
    "    for res in results:\n",
    "        if res['confidence'] > confidence_t:\n",
    "            continue\n",
    "    \n",
    "        x1, y1, width, height = x[0]['box']\n",
    "        x1, y1 = abs(x1) , abs(y1)\n",
    "        x2, y2 = x1+width , y1+height\n",
    "        face = img_rgb[y1:y2 , x1:x2]\n",
    "        \n",
    "        face = normalize(face)\n",
    "        face = cv2.resize(face, required_shape)\n",
    "        face_d = np.expand_dims(face, axis=0)\n",
    "        encode = face_encoder.predict(face_d)[0]\n",
    "        encode = l2_normalizer.transform(encode.reshape(1, -1))[0]\n",
    "        \n",
    "        name = 'unknown'\n",
    "        distance = float(\"inf\")\n",
    "        \n",
    "        for db_name, db_encode in lfw_dict.items():\n",
    "            dist = cosine(db_encode, encode)\n",
    "            if dist < recognition_t and dist < distance:\n",
    "                name = db_name\n",
    "                distance = dist\n",
    "        names.append(name)\n",
    "        \n",
    "    if person in names:\n",
    "        correct+=1\n",
    "    total+=1"
   ]
  }
 ],
 "metadata": {
  "kernelspec": {
   "display_name": "Python 3",
   "language": "python",
   "name": "python3"
  },
  "language_info": {
   "codemirror_mode": {
    "name": "ipython",
    "version": 3
   },
   "file_extension": ".py",
   "mimetype": "text/x-python",
   "name": "python",
   "nbconvert_exporter": "python",
   "pygments_lexer": "ipython3",
   "version": "3.9.0"
  }
 },
 "nbformat": 4,
 "nbformat_minor": 2
}
